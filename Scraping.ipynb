{
 "cells": [
  {
   "cell_type": "code",
   "execution_count": 1,
   "metadata": {},
   "outputs": [],
   "source": [
    "import requests\n",
    "from bs4 import BeautifulSoup\n",
    "import re\n",
    "import pandas as pd\n",
    "import time\n",
    "time.sleep(10)"
   ]
  },
  {
   "cell_type": "code",
   "execution_count": 2,
   "metadata": {},
   "outputs": [
    {
     "name": "stdout",
     "output_type": "stream",
     "text": [
      "Mozilla/5.0 (Windows NT 10.0; WOW64) AppleWebKit/537.36 (KHTML, like Gecko) Chrome/90.0.4430.212 Safari/537.36\n"
     ]
    }
   ],
   "source": [
    "import requests\n",
    "import requests_random_user_agent\n",
    "\n",
    "s = requests.Session()\n",
    "print(s.headers['User-Agent'])"
   ]
  },
  {
   "cell_type": "code",
   "execution_count": 3,
   "metadata": {},
   "outputs": [],
   "source": [
    "# Item 16 not present\n",
    "#r = requests.get('https://www.sec.gov/Archives/edgar/data/1288776/000165204416000012/goog10-k2015.htm')\n",
    "\n",
    "# doc_type = 10-K not found, use table info for finding summary\n",
    "#r = requests.get('https://www.sec.gov/Archives/edgar/data/320193/000032019320000096/aapl-20200926.htm')\n",
    "\n",
    "# Item 16 returns None as expected and returning texts for other items as well\n",
    "r = requests.get('https://www.sec.gov/Archives/edgar/data/320193/000032019318000145/0000320193-18-000145.txt')\n",
    "\n",
    "# Contains item 16\n",
    "#r = requests.get('https://www.sec.gov/Archives/edgar/data/0001163302/000116330221000013/x-20201231.htm')\n",
    "\n",
    "# doc_type = 10-K not found, use table info for finding summary, Item-16 not present\n",
    "#r = requests.get('https://www.sec.gov/Archives/edgar/data/1000045/000156459019023956/nick-10k_20190331.htm')\n",
    "\n",
    "# Another different type of doc, besides item-16 it has no table of content as well\n",
    "#r = requests.get('https://www.sec.gov/Archives/edgar/data/1000683/000121390019005351/f10k2018_blondertongue.htm')\n",
    "\n",
    "raw_10k = r.text"
   ]
  },
  {
   "cell_type": "code",
   "execution_count": 4,
   "metadata": {},
   "outputs": [
    {
     "name": "stdout",
     "output_type": "stream",
     "text": [
      "<SEC-DOCUMENT>0000320193-18-000145.txt : 20181105\n",
      "<SEC-HEADER>0000320193-18-000145.hdr.sgml : 20181105\n",
      "<ACCEPTANCE-DATETIME>20181105080140\n",
      "ACCESSION NUMBER:\t\t0000320193-18-000145\n",
      "CONFORMED SUBMISSION TYPE:\t10-K\n",
      "PUBLIC DOCUMENT COUNT:\t\t88\n",
      "CONFORMED PERIOD OF REPORT:\t20180929\n",
      "FILED AS OF DATE:\t\t20181105\n",
      "DATE AS OF CHANGE:\t\t20181105\n",
      "\n",
      "FILER:\n",
      "\n",
      "\tCOMPANY DATA:\t\n",
      "\t\tCOMPANY CONFORMED NAME:\t\t\tAPPLE INC\n",
      "\t\tCENTRAL INDEX KEY:\t\t\t0000320193\n",
      "\t\tSTANDARD INDUSTRIAL CLASSIFICATION:\tELECTRONIC COMPUTERS [3571]\n",
      "\t\tIRS NUMBER:\t\t\t\t942404110\n",
      "\t\tSTATE OF INCORPORATION:\t\t\tCA\n",
      "\t\tFISCAL YEAR END:\t\t\t0930\n",
      "\n",
      "\tFILING VALUES:\n",
      "\t\tFORM TYPE:\t\t10-K\n",
      "\t\tSEC ACT:\t\t1934 Act\n",
      "\t\tSEC FILE NUMBER:\t001-36743\n",
      "\t\tFILM NUMBER:\t\t181158788\n",
      "\n",
      "\tBUSINESS ADDRESS:\t\n",
      "\t\tSTREET 1:\t\tONE APPLE PARK WAY\n",
      "\t\tCITY:\t\t\tCUPERTINO\n",
      "\t\tSTATE:\t\t\tCA\n",
      "\t\tZIP:\t\t\t95014\n",
      "\t\tBUSINESS PHONE:\t\t(408) 996-1010\n",
      "\n",
      "\tMAIL ADDRESS:\t\n",
      "\t\tSTREET 1:\t\tONE APPLE PARK WAY\n",
      "\t\tCITY:\t\t\tCUPERTINO\n",
      "\t\tSTATE:\t\t\tCA\n",
      "\t\tZIP:\t\t\t95014\n",
      "\n",
      "\tFORMER COMPANY:\t\n",
      "\t\tFORMER CONFORMED NAME:\tAPPLE COMPUTER INC\n",
      "\t\tDATE OF NAME CHANGE:\t19970808\n",
      "</SEC-HEADER>\n",
      "<DOCUMENT>\n",
      "<TYPE>10-K\n",
      "<SEQUENCE>1\n",
      "<FILENAME>a10-k20189292018.htm\n",
      "<DESCRIPTION>10-K\n",
      "<TEXT>\n",
      "<!DOCTYPE html PUBLIC \"-//W3C//DTD HTML 4.01 Transitional//EN\" \"http://www.w3.org/TR/html4/loose.dtd\">\n",
      "<html>\n",
      "\t<head>\n",
      "\t\t<!-- Document created using Wdesk 1 -->\n",
      "\t\t<!-- Copyright 2018 Workiva -->\n",
      "\t\t<title>Document</title>\n",
      "\t</head>\n",
      "\t<body style=\"font-family:Times New Roman;font-size:10pt;\">\n",
      "<div><a name=\"s3540C27286EF5B0DA103CC59028B96BE\"></a></div><div style=\"line-height:120%;text-align:center;font-size:10pt;\"><div style=\"padding-left:0px;text-indent:0px;line-height:normal;padding-top:10px;\"><table cellpadding=\"0\" cellspacing=\"0\" style=\"font-family:Times New Roman;font-size:10pt;margin-left:auto;margin-right:auto;width:100%;border-collapse:collapse;text-align:left;\"><tr><td colspan=\"1\"></td></tr><tr><td style=\"width:100%;\"></td></tr><tr><td style=\"vertical-align:bottom;padding-left:2px;padding-top:2px;padding-bottom:2px;padding-right:2px;border-top:1px solid #000000\n"
     ]
    }
   ],
   "source": [
    "print(raw_10k[0:2000])"
   ]
  },
  {
   "cell_type": "code",
   "execution_count": 5,
   "metadata": {},
   "outputs": [],
   "source": [
    "# Regex to find <DOCUMENT> tags\n",
    "doc_start_pattern = re.compile(r'<DOCUMENT>')\n",
    "doc_end_pattern = re.compile(r'</DOCUMENT>')\n",
    "# Regex to find <TYPE> tag prceeding any characters, terminating at new line\n",
    "type_pattern = re.compile(r'<TYPE>[^\\n]+')"
   ]
  },
  {
   "cell_type": "code",
   "execution_count": 6,
   "metadata": {},
   "outputs": [],
   "source": [
    "# Create 3 lists with the span idices for each regex\n",
    "\n",
    "### There are many <Document> Tags in this text file, each as specific exhibit like 10-K, EX-10.17 etc\n",
    "### First filter will give us document tag start <end> and document tag end's <start> \n",
    "### We will use this to later grab content in between these tags\n",
    "doc_start_is = [x.end() for x in doc_start_pattern.finditer(raw_10k)]\n",
    "doc_end_is = [x.start() for x in doc_end_pattern.finditer(raw_10k)]\n",
    "\n",
    "### Type filter is interesting, it looks for <TYPE> with Not flag as new line, ie terminare there, with + sign\n",
    "### to look for any char afterwards until new line \\n. This will give us <TYPE> followed Section Name like '10-K'\n",
    "### Once we have have this, it returns String Array, below line will with find content after <TYPE> ie, '10-K' \n",
    "### as section names\n",
    "doc_types = [x[len('<TYPE>'):] for x in type_pattern.findall(raw_10k)]"
   ]
  },
  {
   "cell_type": "code",
   "execution_count": 7,
   "metadata": {},
   "outputs": [],
   "source": [
    "document = {}\n",
    "\n",
    "# Create a loop to go through each section type and save only the 10-K section in the dictionary\n",
    "for doc_type, doc_start, doc_end in zip(doc_types, doc_start_is, doc_end_is):\n",
    "    if doc_type == '10-K':\n",
    "        document[doc_type] = raw_10k[doc_start:doc_end]"
   ]
  },
  {
   "cell_type": "code",
   "execution_count": 8,
   "metadata": {},
   "outputs": [
    {
     "data": {
      "text/plain": [
       "'\\n<TYPE>10-K\\n<SEQUENCE>1\\n<FILENAME>a10-k20189292018.htm\\n<DESCRIPTION>10-K\\n<TEXT>\\n<!DOCTYPE html PUBLIC \"-//W3C//DTD HTML 4.01 Transitional//EN\" \"http://www.w3.org/TR/html4/loose.dtd\">\\n<html>\\n\\t<head>\\n\\t\\t<!-- Document created using Wdesk 1 -->\\n\\t\\t<!-- Copyright 2018 Workiva -->\\n\\t\\t<title>Document</title>\\n\\t</head>\\n\\t<body style=\"font-family:Times New Roman;font-size:10pt;\">\\n<div><a name=\"s3540C27286EF5B0DA103CC59028B96BE\"></a></div><div style=\"line-height:120%;text-align:center;font-size:10pt;\"><div sty'"
      ]
     },
     "execution_count": 8,
     "metadata": {},
     "output_type": "execute_result"
    }
   ],
   "source": [
    "# display excerpt the document\n",
    "document['10-K'][0:500]"
   ]
  },
  {
   "cell_type": "code",
   "execution_count": 9,
   "metadata": {},
   "outputs": [
    {
     "name": "stdout",
     "output_type": "stream",
     "text": [
      "<re.Match object; span=(38318, 38327), match='>Item 1A.'>\n",
      "<re.Match object; span=(39347, 39356), match='>Item 1B.'>\n",
      "<re.Match object; span=(46148, 46156), match='>Item 7.'>\n",
      "<re.Match object; span=(47281, 47290), match='>Item 7A.'>\n",
      "<re.Match object; span=(48357, 48365), match='>Item 8.'>\n",
      "<re.Match object; span=(60132, 60141), match='>Item 16.'>\n",
      "<re.Match object; span=(119131, 119140), match='>Item 1A.'>\n",
      "<re.Match object; span=(197023, 197032), match='>Item 1B.'>\n",
      "<re.Match object; span=(333318, 333326), match='>Item 7.'>\n",
      "<re.Match object; span=(729984, 729993), match='>Item 7A.'>\n",
      "<re.Match object; span=(741774, 741782), match='>Item 8.'>\n",
      "<re.Match object; span=(2360825, 2360834), match='>Item 16.'>\n"
     ]
    }
   ],
   "source": [
    "# Write the regex\n",
    "regex = re.compile(r'(>Item(\\s|&#160;|&nbsp;)(1A|1B|7A|7|8|16)\\.{0,1})|(ITEM\\s(1A|1B|7A|7|8|16))')\n",
    "\n",
    "# Use finditer to math the regex\n",
    "matches = regex.finditer(document['10-K'])\n",
    "\n",
    "# Write a for loop to print the matches\n",
    "for match in matches:\n",
    "    print(match)"
   ]
  },
  {
   "cell_type": "code",
   "execution_count": 10,
   "metadata": {},
   "outputs": [
    {
     "data": {
      "text/html": [
       "<div>\n",
       "<style scoped>\n",
       "    .dataframe tbody tr th:only-of-type {\n",
       "        vertical-align: middle;\n",
       "    }\n",
       "\n",
       "    .dataframe tbody tr th {\n",
       "        vertical-align: top;\n",
       "    }\n",
       "\n",
       "    .dataframe thead th {\n",
       "        text-align: right;\n",
       "    }\n",
       "</style>\n",
       "<table border=\"1\" class=\"dataframe\">\n",
       "  <thead>\n",
       "    <tr style=\"text-align: right;\">\n",
       "      <th></th>\n",
       "      <th>item</th>\n",
       "      <th>start</th>\n",
       "      <th>end</th>\n",
       "    </tr>\n",
       "  </thead>\n",
       "  <tbody>\n",
       "    <tr>\n",
       "      <th>0</th>\n",
       "      <td>&gt;item 1a.</td>\n",
       "      <td>38318</td>\n",
       "      <td>38327</td>\n",
       "    </tr>\n",
       "    <tr>\n",
       "      <th>1</th>\n",
       "      <td>&gt;item 1b.</td>\n",
       "      <td>39347</td>\n",
       "      <td>39356</td>\n",
       "    </tr>\n",
       "    <tr>\n",
       "      <th>2</th>\n",
       "      <td>&gt;item 7.</td>\n",
       "      <td>46148</td>\n",
       "      <td>46156</td>\n",
       "    </tr>\n",
       "    <tr>\n",
       "      <th>3</th>\n",
       "      <td>&gt;item 7a.</td>\n",
       "      <td>47281</td>\n",
       "      <td>47290</td>\n",
       "    </tr>\n",
       "    <tr>\n",
       "      <th>4</th>\n",
       "      <td>&gt;item 8.</td>\n",
       "      <td>48357</td>\n",
       "      <td>48365</td>\n",
       "    </tr>\n",
       "  </tbody>\n",
       "</table>\n",
       "</div>"
      ],
      "text/plain": [
       "        item  start    end\n",
       "0  >item 1a.  38318  38327\n",
       "1  >item 1b.  39347  39356\n",
       "2   >item 7.  46148  46156\n",
       "3  >item 7a.  47281  47290\n",
       "4   >item 8.  48357  48365"
      ]
     },
     "execution_count": 10,
     "metadata": {},
     "output_type": "execute_result"
    }
   ],
   "source": [
    "# Matches\n",
    "matches = regex.finditer(document['10-K'])\n",
    "\n",
    "# Create the dataframe\n",
    "test_df = pd.DataFrame([(x.group(), x.start(), x.end()) for x in matches])\n",
    "\n",
    "test_df.columns = ['item', 'start', 'end']\n",
    "test_df['item'] = test_df.item.str.lower()\n",
    "\n",
    "# Display the dataframe\n",
    "test_df.head()"
   ]
  },
  {
   "cell_type": "code",
   "execution_count": 11,
   "metadata": {},
   "outputs": [
    {
     "data": {
      "text/html": [
       "<div>\n",
       "<style scoped>\n",
       "    .dataframe tbody tr th:only-of-type {\n",
       "        vertical-align: middle;\n",
       "    }\n",
       "\n",
       "    .dataframe tbody tr th {\n",
       "        vertical-align: top;\n",
       "    }\n",
       "\n",
       "    .dataframe thead th {\n",
       "        text-align: right;\n",
       "    }\n",
       "</style>\n",
       "<table border=\"1\" class=\"dataframe\">\n",
       "  <thead>\n",
       "    <tr style=\"text-align: right;\">\n",
       "      <th></th>\n",
       "      <th>item</th>\n",
       "      <th>start</th>\n",
       "      <th>end</th>\n",
       "    </tr>\n",
       "  </thead>\n",
       "  <tbody>\n",
       "    <tr>\n",
       "      <th>0</th>\n",
       "      <td>item1a</td>\n",
       "      <td>38318</td>\n",
       "      <td>38327</td>\n",
       "    </tr>\n",
       "    <tr>\n",
       "      <th>1</th>\n",
       "      <td>item1b</td>\n",
       "      <td>39347</td>\n",
       "      <td>39356</td>\n",
       "    </tr>\n",
       "    <tr>\n",
       "      <th>2</th>\n",
       "      <td>item7</td>\n",
       "      <td>46148</td>\n",
       "      <td>46156</td>\n",
       "    </tr>\n",
       "    <tr>\n",
       "      <th>3</th>\n",
       "      <td>item7a</td>\n",
       "      <td>47281</td>\n",
       "      <td>47290</td>\n",
       "    </tr>\n",
       "    <tr>\n",
       "      <th>4</th>\n",
       "      <td>item8</td>\n",
       "      <td>48357</td>\n",
       "      <td>48365</td>\n",
       "    </tr>\n",
       "  </tbody>\n",
       "</table>\n",
       "</div>"
      ],
      "text/plain": [
       "     item  start    end\n",
       "0  item1a  38318  38327\n",
       "1  item1b  39347  39356\n",
       "2   item7  46148  46156\n",
       "3  item7a  47281  47290\n",
       "4   item8  48357  48365"
      ]
     },
     "execution_count": 11,
     "metadata": {},
     "output_type": "execute_result"
    }
   ],
   "source": [
    "\n",
    "# Get rid of unnesesary charcters from the dataframe\n",
    "test_df.replace('&#160;',' ',regex=True,inplace=True)\n",
    "test_df.replace('&nbsp;',' ',regex=True,inplace=True)\n",
    "test_df.replace(' ','',regex=True,inplace=True)\n",
    "test_df.replace('\\.','',regex=True,inplace=True)\n",
    "test_df.replace('>','',regex=True,inplace=True)\n",
    "\n",
    "# display the dataframe\n",
    "test_df.head()"
   ]
  },
  {
   "cell_type": "code",
   "execution_count": 12,
   "metadata": {},
   "outputs": [
    {
     "data": {
      "text/html": [
       "<div>\n",
       "<style scoped>\n",
       "    .dataframe tbody tr th:only-of-type {\n",
       "        vertical-align: middle;\n",
       "    }\n",
       "\n",
       "    .dataframe tbody tr th {\n",
       "        vertical-align: top;\n",
       "    }\n",
       "\n",
       "    .dataframe thead th {\n",
       "        text-align: right;\n",
       "    }\n",
       "</style>\n",
       "<table border=\"1\" class=\"dataframe\">\n",
       "  <thead>\n",
       "    <tr style=\"text-align: right;\">\n",
       "      <th></th>\n",
       "      <th>item</th>\n",
       "      <th>start</th>\n",
       "      <th>end</th>\n",
       "    </tr>\n",
       "  </thead>\n",
       "  <tbody>\n",
       "    <tr>\n",
       "      <th>6</th>\n",
       "      <td>item1a</td>\n",
       "      <td>119131</td>\n",
       "      <td>119140</td>\n",
       "    </tr>\n",
       "    <tr>\n",
       "      <th>7</th>\n",
       "      <td>item1b</td>\n",
       "      <td>197023</td>\n",
       "      <td>197032</td>\n",
       "    </tr>\n",
       "    <tr>\n",
       "      <th>8</th>\n",
       "      <td>item7</td>\n",
       "      <td>333318</td>\n",
       "      <td>333326</td>\n",
       "    </tr>\n",
       "    <tr>\n",
       "      <th>9</th>\n",
       "      <td>item7a</td>\n",
       "      <td>729984</td>\n",
       "      <td>729993</td>\n",
       "    </tr>\n",
       "    <tr>\n",
       "      <th>10</th>\n",
       "      <td>item8</td>\n",
       "      <td>741774</td>\n",
       "      <td>741782</td>\n",
       "    </tr>\n",
       "    <tr>\n",
       "      <th>11</th>\n",
       "      <td>item16</td>\n",
       "      <td>2360825</td>\n",
       "      <td>2360834</td>\n",
       "    </tr>\n",
       "  </tbody>\n",
       "</table>\n",
       "</div>"
      ],
      "text/plain": [
       "      item    start      end\n",
       "6   item1a   119131   119140\n",
       "7   item1b   197023   197032\n",
       "8    item7   333318   333326\n",
       "9   item7a   729984   729993\n",
       "10   item8   741774   741782\n",
       "11  item16  2360825  2360834"
      ]
     },
     "execution_count": 12,
     "metadata": {},
     "output_type": "execute_result"
    }
   ],
   "source": [
    "# Drop duplicates\n",
    "pos_dat = test_df.sort_values('start', ascending=True).drop_duplicates(subset=['item'], keep='last')\n",
    "\n",
    "# Display the dataframe\n",
    "pos_dat"
   ]
  },
  {
   "cell_type": "code",
   "execution_count": 13,
   "metadata": {},
   "outputs": [
    {
     "data": {
      "text/html": [
       "<div>\n",
       "<style scoped>\n",
       "    .dataframe tbody tr th:only-of-type {\n",
       "        vertical-align: middle;\n",
       "    }\n",
       "\n",
       "    .dataframe tbody tr th {\n",
       "        vertical-align: top;\n",
       "    }\n",
       "\n",
       "    .dataframe thead th {\n",
       "        text-align: right;\n",
       "    }\n",
       "</style>\n",
       "<table border=\"1\" class=\"dataframe\">\n",
       "  <thead>\n",
       "    <tr style=\"text-align: right;\">\n",
       "      <th></th>\n",
       "      <th>start</th>\n",
       "      <th>end</th>\n",
       "    </tr>\n",
       "    <tr>\n",
       "      <th>item</th>\n",
       "      <th></th>\n",
       "      <th></th>\n",
       "    </tr>\n",
       "  </thead>\n",
       "  <tbody>\n",
       "    <tr>\n",
       "      <th>item1a</th>\n",
       "      <td>119131</td>\n",
       "      <td>119140</td>\n",
       "    </tr>\n",
       "    <tr>\n",
       "      <th>item1b</th>\n",
       "      <td>197023</td>\n",
       "      <td>197032</td>\n",
       "    </tr>\n",
       "    <tr>\n",
       "      <th>item7</th>\n",
       "      <td>333318</td>\n",
       "      <td>333326</td>\n",
       "    </tr>\n",
       "    <tr>\n",
       "      <th>item7a</th>\n",
       "      <td>729984</td>\n",
       "      <td>729993</td>\n",
       "    </tr>\n",
       "    <tr>\n",
       "      <th>item8</th>\n",
       "      <td>741774</td>\n",
       "      <td>741782</td>\n",
       "    </tr>\n",
       "    <tr>\n",
       "      <th>item16</th>\n",
       "      <td>2360825</td>\n",
       "      <td>2360834</td>\n",
       "    </tr>\n",
       "  </tbody>\n",
       "</table>\n",
       "</div>"
      ],
      "text/plain": [
       "          start      end\n",
       "item                    \n",
       "item1a   119131   119140\n",
       "item1b   197023   197032\n",
       "item7    333318   333326\n",
       "item7a   729984   729993\n",
       "item8    741774   741782\n",
       "item16  2360825  2360834"
      ]
     },
     "execution_count": 13,
     "metadata": {},
     "output_type": "execute_result"
    }
   ],
   "source": [
    "\n",
    "# Set item as the dataframe index\n",
    "pos_dat.set_index('item', inplace=True)\n",
    "\n",
    "# display the dataframe\n",
    "pos_dat"
   ]
  },
  {
   "cell_type": "code",
   "execution_count": 14,
   "metadata": {},
   "outputs": [],
   "source": [
    "# Get Item 1a\n",
    "item_1a_raw = document['10-K'][pos_dat['start'].loc['item1a']:pos_dat['start'].loc['item1b']]\n",
    "\n",
    "# Get Item 7\n",
    "item_7_raw = document['10-K'][pos_dat['start'].loc['item7']:pos_dat['start'].loc['item7a']]\n",
    "\n",
    "# Get Item 7a\n",
    "item_7a_raw = document['10-K'][pos_dat['start'].loc['item7a']:pos_dat['start'].loc['item8']]\n",
    "\n",
    "# Get Item 16\n",
    "item_16_raw = document['10-K'][pos_dat['start'].loc['item16']:pos_dat['start'].loc['item16']]"
   ]
  },
  {
   "cell_type": "code",
   "execution_count": 15,
   "metadata": {},
   "outputs": [
    {
     "name": "stdout",
     "output_type": "stream",
     "text": [
      ">Item 1A.</font></div></td><td style=\"vertical-align:top;\"><div style=\"line-height:120%;text-align:justify;font-size:9pt;\"><font style=\"font-family:Helvetica,sans-serif;font-size:9pt;font-weight:bold;\">Risk Factors</font></div></td></tr></table><div style=\"line-height:120%;padding-top:8px;text-align:justify;font-size:9pt;\"><font style=\"font-family:Helvetica,sans-serif;font-size:9pt;\">The following discussion of risk factors contains forward-looking statements. These risk factors may be important to understanding other statements in this Form 10-K. The following information should be read in conjunction with Part II, Item&#160;7, &#8220;Management&#8217;s Discussion and Analysis of Financial Condition and Results of Operations&#8221; and the consolidated financial statements and related notes in Part II, Item&#160;8, &#8220;Financial Statements and Supplementary Data&#8221; of this Form 10-K.</font></div><div style=\"line-height:120%;padding-top:16px;text-align:justify;font-size:9pt;\"><f\n",
      "**************************************************\n",
      "<html>\n",
      " <body>\n",
      "  <p>\n",
      "   &gt;Item 1A.\n",
      "  </p>\n",
      "  <td style=\"vertical-align:top;\">\n",
      "   <div style=\"line-height:120%;text-align:justify;font-size:9pt;\">\n",
      "    <font style=\"font-family:Helvetica,sans-serif;font-size:9pt;font-weight:bold;\">\n",
      "     Risk Factors\n",
      "    </font>\n",
      "   </div>\n",
      "  </td>\n",
      "  <div style=\"line-height:120%;padding-top:8px;text-align:justify;font-size:9pt;\">\n",
      "   <font style=\"font-family:Helvetica,sans-serif;font-size:9pt;\">\n",
      "    The following discussion of risk factors contains forward-looking statements. These risk factors may be important to understanding other statements in this Form 10-K. The following information should be read in conjunction with Part II, Item 7, “Management’s Discussion and Analysis of Financial Condition and Results of Operations” and the consolidated financial statements and related notes in Part II, Item 8, “Financial Statements and Supplementary Data” of this Form 10-K.\n",
      "   </font>\n",
      "  </div>\n",
      "  <div style=\"line-height:120%;padding-top:16px;text-align:justify;fon\n",
      "**************************************************\n",
      ">Item 1A.\n",
      "\n",
      "Risk Factors\n",
      "\n",
      "The following discussion of risk factors contains forward-looking statements. These risk factors may be important to understanding other statements in this Form 10-K. The following information should be read in conjunction with Part II, Item 7, “Management’s Discussion and Analysis of Financial Condition and Results of Operations” and the consolidated financial statements and related notes in Part II, Item 8, “Financial Statements and Supplementary Data” of this Form 10-K.\n",
      "\n",
      "The business, financial condition and operating results of the Company can be affected by a number of factors, whether currently known or unknown, including but not limited to those described below, any one or more of which could, directly or indirectly, cause the Company’s actual financial condition and operating results to vary materially from past, or from anticipated future, financial condition and operating results. Any of these factors, in whole or in part, could materially and adversely affect the Company’s business, financial condition, operating results and stock price.\n",
      "\n",
      "Because of the following factors, as well as other factors affecting the Company’s financial condition and operating results, past financial performance should not be considered to be a reliable indicator of future performance, and investors should not use historical trends to anticipate results or trends in future periods.\n",
      "\n",
      "Global and regional economic conditions could materially adversely affect the Company’s business, results of operations, financial condition and growth\n",
      "\n",
      ".\n",
      "\n",
      "The Company has international operations with sales outside the U.S. representing a majority of the Company’s total net sales. In addition, a majority of the Company’s supply chain, and its manufacturing and assembly activities, are located outside the U.S. As a result, the Company’s operations and performance depend significantly on global and regional economic conditions.\n",
      "\n",
      "Adverse macroeconomic conditions, including inflation, slower growth or recession, new or increased tariffs, changes to fiscal and monetary policy, tighter credit, higher interest rates, high unemployment and currency fluctuations could materially adversely affect demand for the Company’s products and services. In addition, consumer confidence and spending could be adversely affected in response to financial market volatility, negative financial news, conditions in the real estate and mortgage markets, declines in income or asset values, changes to fuel and other energy costs, labor and healthcare costs and other economic factors. \n",
      "\n",
      "In addition to an adverse impact on demand for the Company’s products, uncertainty about, or a decline in, global or regional economic conditions could have a significant impact on the Company’s suppliers, contract manufacturers, logistics providers, distributors, cellular network carriers and other channel partners. Potential effects include financial instability; inability to obtain credit to finance operations and purchases of the Company’s products; and insolvency.\n",
      "\n",
      "A downturn in the economic environment could also lead to increased credit and collectibility risk on the Company’s trade receivables; the failure of derivative counterparties and other financial institutions; limitations on the Company’s ability to issue new debt; reduced liquidity; and declines in the fair value of the Company’s financial instruments. These and other economic factors could materially adversely affect the Company’s business, results of operations, financial condition and growth.\n",
      "\n",
      "Global markets for the Company’s products and services are highly competitive and subject to rapid technological change, and the Company may be unable to compete effectively in these markets.\n",
      "\n",
      "The Company’s products and services are offered in highly competitive global markets characterized by aggressive price competition and resulting downward pressure on gross margins, frequent introduction of new products and services, short product life cycles, evolving industry standards, continual improvement in product price/performance characteristics, rapid adoption of technological advancements by competitors and price sensitivity on the part of consumers and businesses.\n",
      "\n",
      "The Company’s ability to compete successfully depends heavily on its ability to ensure a continuing and timely introduction of innovative new products, services and technologies to the marketplace. The Company believes it is unique in that it designs and develops nearly the entire solution for its products, including the hardware, operating system, numerous software applications and related services. As a result, the Company must make significant investments in R&D. There can be no assurance that these investments will achieve expected returns, and the Company may not be able to develop and market new products and services successfully.\n",
      "\n",
      "The Company currently holds a significant number of patents and copyrights and has registered, and applied to\n"
     ]
    }
   ],
   "source": [
    "print(item_1a_raw[0:1000])\n",
    "print('*'*50)\n",
    "\n",
    "item_1a_content = BeautifulSoup(item_1a_raw, 'lxml')\n",
    "print(item_1a_content.prettify()[0:1000])\n",
    "print('*'*50)\n",
    "\n",
    "# Final text after cleaning\n",
    "print(item_1a_content.get_text(\"\\n\\n\")[0:5000])"
   ]
  },
  {
   "cell_type": "code",
   "execution_count": 16,
   "metadata": {},
   "outputs": [
    {
     "name": "stdout",
     "output_type": "stream",
     "text": [
      "\n",
      "**************************************************\n",
      "\n",
      "**************************************************\n",
      "\n"
     ]
    }
   ],
   "source": [
    "print(item_16_raw[0:1000])\n",
    "print('*'*50)\n",
    "\n",
    "item_16_content = BeautifulSoup(item_16_raw, 'lxml')\n",
    "print(item_16_content.prettify()[0:1000])\n",
    "print('*'*50)\n",
    "\n",
    "# Final text after cleaning\n",
    "print(item_16_content.get_text(\"\\n\\n\")[0:1500])"
   ]
  }
 ],
 "metadata": {
  "kernelspec": {
   "display_name": "Python 3",
   "language": "python",
   "name": "python3"
  },
  "language_info": {
   "codemirror_mode": {
    "name": "ipython",
    "version": 3
   },
   "file_extension": ".py",
   "mimetype": "text/x-python",
   "name": "python",
   "nbconvert_exporter": "python",
   "pygments_lexer": "ipython3",
   "version": "3.7.6"
  }
 },
 "nbformat": 4,
 "nbformat_minor": 4
}
